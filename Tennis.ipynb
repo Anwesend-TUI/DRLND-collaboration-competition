{
 "cells": [
  {
   "cell_type": "markdown",
   "metadata": {},
   "source": [
    "# Collaboration and Competition\n",
    "\n",
    "---\n",
    "\n",
    "In this notebook, you will learn how to use the Unity ML-Agents environment for the third project of the [Deep Reinforcement Learning Nanodegree](https://www.udacity.com/course/deep-reinforcement-learning-nanodegree--nd893) program.\n",
    "\n",
    "### 1. Start the Environment\n",
    "\n",
    "We begin by importing the necessary packages.  If the code cell below returns an error, please revisit the project instructions to double-check that you have installed [Unity ML-Agents](https://github.com/Unity-Technologies/ml-agents/blob/master/docs/Installation.md) and [NumPy](http://www.numpy.org/)."
   ]
  },
  {
   "cell_type": "code",
   "execution_count": 1,
   "metadata": {},
   "outputs": [],
   "source": [
    "from unityagents import UnityEnvironment\n",
    "import numpy as np"
   ]
  },
  {
   "cell_type": "markdown",
   "metadata": {},
   "source": [
    "Next, we will start the environment!  **_Before running the code cell below_**, change the `file_name` parameter to match the location of the Unity environment that you downloaded.\n",
    "\n",
    "- **Mac**: `\"path/to/Tennis.app\"`\n",
    "- **Windows** (x86): `\"path/to/Tennis_Windows_x86/Tennis.exe\"`\n",
    "- **Windows** (x86_64): `\"path/to/Tennis_Windows_x86_64/Tennis.exe\"`\n",
    "- **Linux** (x86): `\"path/to/Tennis_Linux/Tennis.x86\"`\n",
    "- **Linux** (x86_64): `\"path/to/Tennis_Linux/Tennis.x86_64\"`\n",
    "- **Linux** (x86, headless): `\"path/to/Tennis_Linux_NoVis/Tennis.x86\"`\n",
    "- **Linux** (x86_64, headless): `\"path/to/Tennis_Linux_NoVis/Tennis.x86_64\"`\n",
    "\n",
    "For instance, if you are using a Mac, then you downloaded `Tennis.app`.  If this file is in the same folder as the notebook, then the line below should appear as follows:\n",
    "```\n",
    "env = UnityEnvironment(file_name=\"Tennis.app\")\n",
    "```"
   ]
  },
  {
   "cell_type": "code",
   "execution_count": 2,
   "metadata": {},
   "outputs": [
    {
     "name": "stderr",
     "output_type": "stream",
     "text": [
      "INFO:unityagents:\n",
      "'Academy' started successfully!\n",
      "Unity Academy name: Academy\n",
      "        Number of Brains: 1\n",
      "        Number of External Brains : 1\n",
      "        Lesson number : 0\n",
      "        Reset Parameters :\n",
      "\t\t\n",
      "Unity brain name: TennisBrain\n",
      "        Number of Visual Observations (per agent): 0\n",
      "        Vector Observation space type: continuous\n",
      "        Vector Observation space size (per agent): 8\n",
      "        Number of stacked Vector Observation: 3\n",
      "        Vector Action space type: continuous\n",
      "        Vector Action space size (per agent): 2\n",
      "        Vector Action descriptions: , \n"
     ]
    }
   ],
   "source": [
    "env = UnityEnvironment(file_name=\"Tennis_Windows_x86_64/Tennis.exe\")"
   ]
  },
  {
   "cell_type": "markdown",
   "metadata": {},
   "source": [
    "Environments contain **_brains_** which are responsible for deciding the actions of their associated agents. Here we check for the first brain available, and set it as the default brain we will be controlling from Python."
   ]
  },
  {
   "cell_type": "code",
   "execution_count": 3,
   "metadata": {},
   "outputs": [],
   "source": [
    "# get the default brain\n",
    "brain_name = env.brain_names[0]\n",
    "brain = env.brains[brain_name]"
   ]
  },
  {
   "cell_type": "markdown",
   "metadata": {},
   "source": [
    "### 2. Examine the State and Action Spaces\n",
    "\n",
    "In this environment, two agents control rackets to bounce a ball over a net. If an agent hits the ball over the net, it receives a reward of +0.1.  If an agent lets a ball hit the ground or hits the ball out of bounds, it receives a reward of -0.01.  Thus, the goal of each agent is to keep the ball in play.\n",
    "\n",
    "The observation space consists of 8 variables corresponding to the position and velocity of the ball and racket. Two continuous actions are available, corresponding to movement toward (or away from) the net, and jumping. \n",
    "\n",
    "Run the code cell below to print some information about the environment."
   ]
  },
  {
   "cell_type": "code",
   "execution_count": 4,
   "metadata": {},
   "outputs": [
    {
     "name": "stdout",
     "output_type": "stream",
     "text": [
      "Number of agents: 2\n",
      "Size of each action: 2\n",
      "There are 2 agents. Each observes a state with length: 24\n",
      "The state for the first agent looks like: [ 0.          0.          0.          0.          0.          0.\n",
      "  0.          0.          0.          0.          0.          0.\n",
      "  0.          0.          0.          0.         -6.65278625 -1.5\n",
      " -0.          0.          6.83172083  6.         -0.          0.        ]\n"
     ]
    }
   ],
   "source": [
    "# reset the environment\n",
    "env_info = env.reset(train_mode=True)[brain_name]\n",
    "\n",
    "# number of agents \n",
    "num_agents = len(env_info.agents)\n",
    "print('Number of agents:', num_agents)\n",
    "\n",
    "# size of each action\n",
    "action_size = brain.vector_action_space_size\n",
    "print('Size of each action:', action_size)\n",
    "\n",
    "# examine the state space \n",
    "states = env_info.vector_observations\n",
    "state_size = states.shape[1]\n",
    "print('There are {} agents. Each observes a state with length: {}'.format(states.shape[0], state_size))\n",
    "print('The state for the first agent looks like:', states[0])"
   ]
  },
  {
   "cell_type": "markdown",
   "metadata": {},
   "source": [
    "### 3. Take Random Actions in the Environment\n",
    "\n",
    "In the next code cell, you will learn how to use the Python API to control the agents and receive feedback from the environment.\n",
    "\n",
    "Once this cell is executed, you will watch the agents' performance, if they select actions at random with each time step.  A window should pop up that allows you to observe the agents.\n",
    "\n",
    "Of course, as part of the project, you'll have to change the code so that the agents are able to use their experiences to gradually choose better actions when interacting with the environment!"
   ]
  },
  {
   "cell_type": "code",
   "execution_count": 5,
   "metadata": {},
   "outputs": [
    {
     "name": "stdout",
     "output_type": "stream",
     "text": [
      "Score (max over agents) from episode 1: 0.0\n",
      "Score (max over agents) from episode 2: 0.0\n",
      "Score (max over agents) from episode 3: 0.0\n",
      "Score (max over agents) from episode 4: 0.0\n",
      "Score (max over agents) from episode 5: 0.0\n"
     ]
    }
   ],
   "source": [
    "for i in range(1, 6):                                      # play game for 5 episodes\n",
    "    env_info = env.reset(train_mode=False)[brain_name]     # reset the environment    \n",
    "    states = env_info.vector_observations                  # get the current state (for each agent)\n",
    "    scores = np.zeros(num_agents)                          # initialize the score (for each agent)\n",
    "    while True:\n",
    "        actions = np.random.randn(num_agents, action_size) # select an action (for each agent)\n",
    "        actions = np.clip(actions, -1, 1)                  # all actions between -1 and 1\n",
    "        env_info = env.step(actions)[brain_name]           # send all actions to tne environment\n",
    "        next_states = env_info.vector_observations         # get next state (for each agent)\n",
    "        rewards = env_info.rewards                         # get reward (for each agent)\n",
    "        dones = env_info.local_done                        # see if episode finished\n",
    "        scores += env_info.rewards                         # update the score (for each agent)\n",
    "        states = next_states                               # roll over states to next time step\n",
    "        if np.any(dones):                                  # exit loop if episode finished\n",
    "            break\n",
    "    print('Score (max over agents) from episode {}: {}'.format(i, np.max(scores)))"
   ]
  },
  {
   "cell_type": "markdown",
   "metadata": {},
   "source": [
    "When finished, you can close the environment."
   ]
  },
  {
   "cell_type": "code",
   "execution_count": 6,
   "metadata": {},
   "outputs": [],
   "source": [
    "#env.close()"
   ]
  },
  {
   "cell_type": "markdown",
   "metadata": {},
   "source": [
    "### 4. It's Your Turn!\n",
    "\n",
    "Now it's your turn to train your own agent to solve the environment!  When training the environment, set `train_mode=True`, so that the line for resetting the environment looks like the following:\n",
    "```python\n",
    "env_info = env.reset(train_mode=True)[brain_name]\n",
    "```"
   ]
  },
  {
   "cell_type": "code",
   "execution_count": 7,
   "metadata": {},
   "outputs": [
    {
     "name": "stdout",
     "output_type": "stream",
     "text": [
      "cuda:0\n",
      "Seed = 8\n",
      "Episode 25\tTime 0.48sec(m)\tAvg. Score both 100ep: -0.0006\tMax: 0.10000\n",
      "Episode 50\tTime 0.95sec(m)\tAvg. Score both 100ep: -0.0002\tMax: 0.10000\n",
      "Episode 75\tTime 1.06sec(m)\tAvg. Score both 100ep: 0.0003\tMax: 0.100010\n",
      "Episode 100\tTime 1.09sec(m)\tAvg. Score both 100ep: 0.0000\tMax: 0.100010\n",
      "Episode 125\tTime 1.11sec(m)\tAvg. Score both 100ep: -0.0003\tMax: 0.10000\n",
      "Episode 150\tTime 1.14sec(m)\tAvg. Score both 100ep: -0.0008\tMax: 0.10000\n",
      "Episode 175\tTime 1.15sec(m)\tAvg. Score both 100ep: -0.0017\tMax: 0.10000\n",
      "Episode 200\tTime 1.16sec(m)\tAvg. Score both 100ep: -0.0022\tMax: 0.10000\n",
      "Episode 225\tTime 1.16sec(m)\tAvg. Score both 100ep: -0.0024\tMax: 0.10000\n",
      "Episode 250\tTime 1.18sec(m)\tAvg. Score both 100ep: -0.0025\tMax: 0.10000\n",
      "Episode 275\tTime 1.21sec(m)\tAvg. Score both 100ep: -0.0024\tMax: 0.10000\n",
      "Episode 300\tTime 1.22sec(m)\tAvg. Score both 100ep: -0.0020\tMax: 0.10000\n",
      "Episode 325\tTime 1.22sec(m)\tAvg. Score both 100ep: -0.0015\tMax: 0.10000\n",
      "Episode 350\tTime 1.27sec(m)\tAvg. Score both 100ep: -0.0008\tMax: 0.10000\n",
      "Episode 375\tTime 1.32sec(m)\tAvg. Score both 100ep: 0.0005\tMax: 0.100010\n",
      "Episode 400\tTime 1.38sec(m)\tAvg. Score both 100ep: 0.0021\tMax: 0.100000\n",
      "Episode 425\tTime 1.44sec(m)\tAvg. Score both 100ep: 0.0045\tMax: 0.100000\n",
      "Episode 450\tTime 1.51sec(m)\tAvg. Score both 100ep: 0.0069\tMax: 0.100000\n",
      "Episode 475\tTime 1.56sec(m)\tAvg. Score both 100ep: 0.0091\tMax: 0.100010\n",
      "Episode 500\tTime 1.59sec(m)\tAvg. Score both 100ep: 0.0109\tMax: 0.100000\n",
      "Episode 525\tTime 1.65sec(m)\tAvg. Score both 100ep: 0.0121\tMax: 0.10000\n",
      "Episode 550\tTime 1.71sec(m)\tAvg. Score both 100ep: 0.0132\tMax: 0.20000\n",
      "Episode 575\tTime 1.80sec(m)\tAvg. Score both 100ep: 0.0147\tMax: 0.30000\n",
      "Episode 600\tTime 1.86sec(m)\tAvg. Score both 100ep: 0.0168\tMax: 0.300000\n",
      "Episode 625\tTime 1.93sec(m)\tAvg. Score both 100ep: 0.0191\tMax: 0.300000\n",
      "Episode 650\tTime 2.08sec(m)\tAvg. Score both 100ep: 0.0218\tMax: 0.60000\n",
      "Episode 675\tTime 2.18sec(m)\tAvg. Score both 100ep: 0.0250\tMax: 0.60000\n",
      "Episode 700\tTime 2.56sec(m)\tAvg. Score both 100ep: 0.0293\tMax: 2.20000\n",
      "Episode 725\tTime 2.67sec(m)\tAvg. Score both 100ep: 0.0348\tMax: 2.20000\n",
      "Episode 750\tTime 2.76sec(m)\tAvg. Score both 100ep: 0.0404\tMax: 2.20000\n",
      "Episode 775\tTime 2.83sec(m)\tAvg. Score both 100ep: 0.0454\tMax: 2.20000\n",
      "Episode 800\tTime 2.87sec(m)\tAvg. Score both 100ep: 0.0489\tMax: 2.20000\n",
      "Episode 825\tTime 2.91sec(m)\tAvg. Score both 100ep: 0.0510\tMax: 2.20000\n",
      "Episode 850\tTime 2.95sec(m)\tAvg. Score both 100ep: 0.0527\tMax: 2.20000\n",
      "Episode 875\tTime 3.24sec(m)\tAvg. Score both 100ep: 0.0547\tMax: 2.60000\n",
      "Episode 900\tTime 3.27sec(m)\tAvg. Score both 100ep: 0.0577\tMax: 2.60000\n",
      "Episode 925\tTime 3.33sec(m)\tAvg. Score both 100ep: 0.0607\tMax: 2.60000\n",
      "Episode 950\tTime 3.50sec(m)\tAvg. Score both 100ep: 0.0639\tMax: 2.60000\n",
      "Episode 975\tTime 3.65sec(m)\tAvg. Score both 100ep: 0.0676\tMax: 2.60000\n",
      "Episode 1000\tTime 3.80sec(m)\tAvg. Score both 100ep: 0.0710\tMax: 2.60000\n",
      "Episode 1025\tTime 3.96sec(m)\tAvg. Score both 100ep: 0.0754\tMax: 2.60000\n",
      "Episode 1050\tTime 3.99sec(m)\tAvg. Score both 100ep: 0.0798\tMax: 2.60000\n",
      "Episode 1075\tTime 4.08sec(m)\tAvg. Score both 100ep: 0.0834\tMax: 2.60000\n",
      "Episode 1100\tTime 4.16sec(m)\tAvg. Score both 100ep: 0.0864\tMax: 2.60000\n",
      "Episode 1125\tTime 4.23sec(m)\tAvg. Score both 100ep: 0.0886\tMax: 2.60000\n",
      "Episode 1150\tTime 4.30sec(m)\tAvg. Score both 100ep: 0.0905\tMax: 2.600000\n",
      "Episode 1175\tTime 4.47sec(m)\tAvg. Score both 100ep: 0.0931\tMax: 2.60000\n",
      "Episode 1200\tTime 4.87sec(m)\tAvg. Score both 100ep: 0.0972\tMax: 2.60000\n",
      "Episode 1225\tTime 5.19sec(m)\tAvg. Score both 100ep: 0.1035\tMax: 2.60000\n",
      "Episode 1250\tTime 5.37sec(m)\tAvg. Score both 100ep: 0.1113\tMax: 2.60000\n",
      "Episode 1275\tTime 5.95sec(m)\tAvg. Score both 100ep: 0.1206\tMax: 2.60000\n",
      "Episode 1300\tTime 6.75sec(m)\tAvg. Score both 100ep: 0.1324\tMax: 2.700000\n",
      "Episode 1325\tTime 7.97sec(m)\tAvg. Score both 100ep: 0.1481\tMax: 2.700000\n",
      "Episode 1334\tTime 115.94sec\tAverage Score: 2.6000\tMax: 2.6000\tMin: 2.600Min Epsilon reached\n",
      "Min Epsilon reached\n",
      "Episode 1350\tTime 9.32sec(m)\tAvg. Score both 100ep: 0.1693\tMax: 2.700000\n",
      "Episode 1375\tTime 10.49sec(m)\tAvg. Score both 100ep: 0.1950\tMax: 2.70000\n",
      "Episode 1400\tTime 11.69sec(m)\tAvg. Score both 100ep: 0.2218\tMax: 2.70000\n",
      "Episode 1425\tTime 12.85sec(m)\tAvg. Score both 100ep: 0.2474\tMax: 2.70000\n",
      "Episode 1450\tTime 13.84sec(m)\tAvg. Score both 100ep: 0.2707\tMax: 2.70000\n",
      "Episode 1475\tTime 14.62sec(m)\tAvg. Score both 100ep: 0.2905\tMax: 2.70000\n",
      "Episode 1500\tTime 16.82sec(m)\tAvg. Score both 100ep: 0.3098\tMax: 2.70000\n",
      "Episode 1525\tTime 18.94sec(m)\tAvg. Score both 100ep: 0.3306\tMax: 2.70000\n",
      "Episode 1550\tTime 20.81sec(m)\tAvg. Score both 100ep: 0.3523\tMax: 2.70000\n",
      "Episode 1575\tTime 21.98sec(m)\tAvg. Score both 100ep: 0.3756\tMax: 2.70000\n",
      "Episode 1600\tTime 23.02sec(m)\tAvg. Score both 100ep: 0.3981\tMax: 2.70000\n",
      "Episode 1625\tTime 23.52sec(m)\tAvg. Score both 100ep: 0.4159\tMax: 2.70000\n",
      "Episode 1650\tTime 24.20sec(m)\tAvg. Score both 100ep: 0.4291\tMax: 2.70000\n",
      "Episode 1675\tTime 25.75sec(m)\tAvg. Score both 100ep: 0.4409\tMax: 2.70000\n",
      "Episode 1700\tTime 27.14sec(m)\tAvg. Score both 100ep: 0.4533\tMax: 2.70000\n",
      "Episode 1725\tTime 28.64sec(m)\tAvg. Score both 100ep: 0.4678\tMax: 2.70000\n",
      "Episode 1750\tTime 30.20sec(m)\tAvg. Score both 100ep: 0.4855\tMax: 2.70000\n",
      "Episode 1775\tTime 31.88sec(m)\tAvg. Score both 100ep: 0.5042\tMax: 2.70000\n",
      "Episode 1800\tTime 33.37sec(m)\tAvg. Score both 100ep: 0.5216\tMax: 2.70000\n",
      "Episode 1821\tTime 223.49sec\tAverage Score: 2.6000\tMax: 2.6000\tMin: 2.600"
     ]
    }
   ],
   "source": [
    "import time\n",
    "from ddpg_agent import Agent\n",
    "from collections import deque\n",
    "import torch\n",
    "import matplotlib.pyplot as plt\n",
    "#from ddpg_agent import InitSharedMemory\n",
    "import os, sys\n",
    "\n",
    "seed= 8\n",
    "print(\"Seed = {}\".format(seed))\n",
    "Agent1 = Agent(state_size, action_size, seed) \n",
    "Agent2 = Agent(state_size, action_size, seed) \n",
    "\n",
    "def train(n_episodes=500, max_t=2000, print_every=25): #max timesteps of 1000 was reached once\n",
    "        scores_deque = deque(maxlen=print_every)\n",
    "        #InitSharedMemory(action_size, seed)\n",
    "        scores_A1 = [] #list of mean scores for each episode\n",
    "        scores_A2 = [] #list of mean scores for each episode\n",
    "        scores_both=[]\n",
    "        scores_max = []        \n",
    "        scores_min = []    \n",
    "        duration_means=[]    \n",
    "\n",
    "        for i_episode in range(1, n_episodes+1):\n",
    "            # each episode --> train agents in parallel\n",
    "            start_time=time.time()\n",
    "            env_info = env.reset(train_mode=True)[brain_name]\n",
    "            states = env_info.vector_observations\n",
    "            scores = np.zeros(num_agents)\n",
    "    \n",
    "            Agent1.reset_noise()   \n",
    "            Agent2.reset_noise()   \n",
    "            timestep=0\n",
    "\n",
    "            #for t in range(max_t) (maximum number of timesteps in an episode) --> not used\n",
    "            while timestep < max_t:\n",
    "\n",
    "                A1_actions = Agent1.act(states[0], add_noise=True)         \n",
    "                A2_actions = Agent2.act(states[1], add_noise=True)    \n",
    "                actions=[A1_actions, A2_actions]\n",
    "                # execute actions parallel\n",
    "                #actions = np.clip(actions, -1, 1,dtype=float) # check\n",
    "                env_info = env.step(actions)[brain_name]           # send all actions to the environment\n",
    "                next_states = env_info.vector_observations         # get next state (for each agent)\n",
    "                rewards = env_info.rewards                         # get reward (for each agent)\n",
    "                scores += env_info.rewards                         # update the score (for each agent)\n",
    "                dones = env_info.local_done                        # see if episode finished\n",
    "                #if True in ( obs !='' for obs in env_info.text_observations):\n",
    "                if (any(ob !='' for ob in env_info.text_observations )):\n",
    "                    print(env_info.text_observations)\n",
    "                \n",
    "                #shared_rewards=rewards[0]+rewards[1] # not that successful IME\n",
    "                shared_rewards=max(rewards[0],rewards[1])\n",
    "                # do save experience and take some time to learn\n",
    "                for t in range(num_agents):\n",
    "                    Agent1.step(states[t], actions[t], shared_rewards, next_states[t], dones[t], timestep)\n",
    "                    Agent2.step(states[t], actions[t], shared_rewards, next_states[t], dones[t], timestep)\n",
    "                # end of explicit learning functions\n",
    "                states = next_states                               # roll over states to next time step\n",
    "                timestep+=1\n",
    "                if np.any(dones):                                  # exit loop if episode finished\n",
    "                    break \n",
    "                if (timestep==max_t): \n",
    "                    print(\" Max timesteps {} reached\".format(timestep))\n",
    "\n",
    "            scores_max.append(np.max(scores))             # save highest score for a single agent         \n",
    "            scores_min.append(np.min(scores))\n",
    "            scores_deque.append(np.mean(scores))\n",
    "            scores_A1.append(np.mean(scores[0]))\n",
    "            scores_A2.append(np.mean(scores[1]))\n",
    "            scores_both.append(max(np.mean(scores_A1), np.mean(scores_A2)) )\n",
    "            duration = time.time() - start_time\n",
    "            duration_means.append(duration)\n",
    "\n",
    "            print('\\rEpisode {}\\tTime {:.2f}sec\\tAverage Score: {:.4f}\\tMax: {:.4f}\\tMin: {:.3f}'.format(i_episode,duration, np.mean(scores), scores_max[i_episode-1], scores_min[i_episode-1]), end=\"\") \n",
    "            #  scores_deque\n",
    "            if i_episode % print_every == 0:\n",
    "                torch.save(Agent1.actor_local.state_dict(), f'checkpoint_actor_{i_episode}.pth')\n",
    "                torch.save(Agent2.actor_local.state_dict(), f'checkpoint_actor_{i_episode}.pth')\n",
    "                torch.save(Agent1.critic_local.state_dict(), f'checkpoint_critic_{i_episode}.pth')\n",
    "                torch.save(Agent2.critic_local.state_dict(), f'checkpoint_critic_{i_episode}.pth')\n",
    "                #print('\\rEpisode {}\\tAverage Score: {:.2f}\\tlast Episode Score: {:.2f}'.format(i_episode, np.mean(scores_deque), np.mean(scores)))\n",
    "                print('\\rEpisode {}\\tTime {:.2f}sec(m)\\tAvg. Score both 100ep: {:.4f}\\tMax: {:.4f}'.format(i_episode,np.mean(duration_means), np.mean(scores_both[-100:]), np.max(scores_max)))   \n",
    "                         \n",
    "            # Specifically, After each episode, we add up the rewards that each agent received, to get a score for each agent. This yields 2 (potentially different) scores. \n",
    "            # We then take the maximum of these 2 scores. This yields a single score for each episode.            \n",
    "            # #The environment is considered solved, when the average (over 100 episodes) of those scores is at least +0.5.\n",
    "\n",
    "            # if timestep>10000: #and ScoresOver30(scores_means):\n",
    "            if i_episode>1000:\n",
    "                scores_over_last_100_episodes= scores_both[-100:]               \n",
    "                # print(\"\\tMean over last 100 Episodes = {:.3f}\".format(np.mean(scores_over_last_100_episodes)))\n",
    "                # restart programm when\n",
    "                # if (np.mean(scores_over_last_100_episodes) < 0.01):\n",
    "                #     print(\"Restarted\")\n",
    "                #     os.execv(sys.argv[0], sys.argv)\n",
    "            \n",
    "                if( (np.array(scores_over_last_100_episodes) > 0.5).all() ):\n",
    "                    torch.save(Agent1.actor_local.state_dict(), f'checkpoint_actor_solved.pth')\n",
    "                    torch.save(Agent2.actor_local.state_dict(), f'checkpoint_actor_solved.pth')\n",
    "                    torch.save(Agent1.critic_local.state_dict(), f'checkpoint_critic_solved.pth')\n",
    "                    torch.save(Agent2.critic_local.state_dict(), f'checkpoint_critic_solved.pth')\n",
    "                    return scores_both\n",
    "\n",
    "        print('Score (max over agents) from episode {}: {}'.format(i_episode, np.max(scores)))\n",
    "        return scores_both\n",
    "\n",
    "scores = train(2000) # 2000 episodes should be enough"
   ]
  },
  {
   "cell_type": "code",
   "execution_count": 8,
   "metadata": {},
   "outputs": [
    {
     "data": {
      "image/png": "[encoded data removed]",
      "text/plain": [
       "<Figure size 432x288 with 1 Axes>"
      ]
     },
     "metadata": {
      "needs_background": "light"
     },
     "output_type": "display_data"
    }
   ],
   "source": [
    "fig = plt.figure()\n",
    "ax = fig.add_subplot(111)\n",
    "plt.plot(np.arange(1, len(scores)+1), scores)\n",
    "plt.ylabel('Score')\n",
    "plt.xlabel('Episode #')\n",
    "plt.show()\n",
    "\n",
    "env.close()"
   ]
  }
 ],
 "metadata": {
  "kernelspec": {
   "display_name": "Python 3",
   "language": "python",
   "name": "python3"
  },
  "language_info": {
   "codemirror_mode": {
    "name": "ipython",
    "version": 3
   },
   "file_extension": ".py",
   "mimetype": "text/x-python",
   "name": "python",
   "nbconvert_exporter": "python",
   "pygments_lexer": "ipython3",
   "version": "3.6.13"
  }
 },
 "nbformat": 4,
 "nbformat_minor": 2
}
